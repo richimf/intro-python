{
 "cells": [
  {
   "cell_type": "markdown",
   "metadata": {
    "slideshow": {
     "slide_type": "slide"
    }
   },
   "source": [
    "<img src=\"../files/misc/logo.gif\" width=300/>\n",
    "<img src=\"../files/misc/itam.JPG\" width=300/>\n",
    "<h1 style=\"color:#872325\"> Numpy: Arrreglos Matriciales </h1>"
   ]
  },
  {
   "cell_type": "code",
   "execution_count": null,
   "metadata": {
    "slideshow": {
     "slide_type": "slide"
    }
   },
   "outputs": [],
   "source": [
    "#Forma más común de import numpy, utilizando el alias np\n",
    "import numpy as np"
   ]
  },
  {
   "cell_type": "markdown",
   "metadata": {
    "slideshow": {
     "slide_type": "fragment"
    }
   },
   "source": [
    "El principal objeto de la Librería Numpy son arreglos homogéneos multidimensionales. Es decir, es una tabla de elementos, todos con el mismo tipo e indexados por un *tuple* de enteros positivos. \n",
    "\n",
    "La dimensiones en numpy se llaman **ejes** (axes); el número de ejes se llama el **rango** (rank)."
   ]
  },
  {
   "cell_type": "markdown",
   "metadata": {
    "slideshow": {
     "slide_type": "fragment"
    }
   },
   "source": [
    "La clase de arreglos en NumPy se conocen como **ndarray**s o, más comunmente, **arrays**."
   ]
  },
  {
   "cell_type": "code",
   "execution_count": null,
   "metadata": {
    "slideshow": {
     "slide_type": "fragment"
    }
   },
   "outputs": [],
   "source": [
    "arr1 = np.array( [ [1, 2, 3], [4, 5, 1] ] )\n",
    "arr1"
   ]
  },
  {
   "cell_type": "code",
   "execution_count": null,
   "metadata": {},
   "outputs": [],
   "source": [
    "help(np.array)"
   ]
  },
  {
   "cell_type": "code",
   "execution_count": null,
   "metadata": {},
   "outputs": [],
   "source": [
    "#Los ndarrays tienen una gran variedad de métodos\n",
    "#que pueden ser aplicados a cada uno de los ejes\n",
    "arr1.sum(axis = 0)"
   ]
  },
  {
   "cell_type": "code",
   "execution_count": null,
   "metadata": {},
   "outputs": [],
   "source": [
    "arr1.sum(axis = 1)"
   ]
  },
  {
   "cell_type": "markdown",
   "metadata": {},
   "source": [
    "Una de las principales ventajas de usar `numpy` es el poder de usar vectorización de funciones aplicadas a un `numpy.array`. Esto implica poder aplicar una función a cada `numpy.array` sin necesidad de expresar un *for loop*, lo cuál hace trabajar con este tipo de funciónes más eficientemente."
   ]
  },
  {
   "cell_type": "code",
   "execution_count": null,
   "metadata": {
    "slideshow": {
     "slide_type": "slide"
    }
   },
   "outputs": [],
   "source": [
    "print(arr1)\n",
    "print(arr1 * 2)"
   ]
  },
  {
   "cell_type": "markdown",
   "metadata": {
    "slideshow": {
     "slide_type": "slide"
    }
   },
   "source": [
    "### Propiedas Principales de `ndarray`"
   ]
  },
  {
   "cell_type": "code",
   "execution_count": null,
   "metadata": {},
   "outputs": [],
   "source": [
    "arr1 = np.array([[1,2,3, 4], [4,5, 1, 6], [4,4, 4, 1]])\n",
    "print(arr1)"
   ]
  },
  {
   "cell_type": "code",
   "execution_count": null,
   "metadata": {
    "slideshow": {
     "slide_type": "fragment"
    }
   },
   "outputs": [],
   "source": [
    "arr1.ndim"
   ]
  },
  {
   "cell_type": "code",
   "execution_count": null,
   "metadata": {
    "slideshow": {
     "slide_type": "fragment"
    }
   },
   "outputs": [],
   "source": [
    "arr1.shape"
   ]
  },
  {
   "cell_type": "code",
   "execution_count": null,
   "metadata": {
    "slideshow": {
     "slide_type": "fragment"
    }
   },
   "outputs": [],
   "source": [
    "arr1.dtype"
   ]
  },
  {
   "cell_type": "markdown",
   "metadata": {
    "slideshow": {
     "slide_type": "slide"
    }
   },
   "source": [
    "## Operaciones y Propiedades de Numpy Arrays"
   ]
  },
  {
   "cell_type": "code",
   "execution_count": null,
   "metadata": {
    "slideshow": {
     "slide_type": "fragment"
    }
   },
   "outputs": [],
   "source": [
    "a1 = np.array([\n",
    "     [2, 4, 6],\n",
    "     [3, 5, 1]\n",
    "])"
   ]
  },
  {
   "cell_type": "code",
   "execution_count": null,
   "metadata": {
    "slideshow": {
     "slide_type": "fragment"
    }
   },
   "outputs": [],
   "source": [
    "a1 + 1"
   ]
  },
  {
   "cell_type": "code",
   "execution_count": null,
   "metadata": {
    "slideshow": {
     "slide_type": "fragment"
    }
   },
   "outputs": [],
   "source": [
    "# Elevar al cuadrado cada entrada\n",
    "a1 ** 2"
   ]
  },
  {
   "cell_type": "code",
   "execution_count": null,
   "metadata": {
    "scrolled": true,
    "slideshow": {
     "slide_type": "fragment"
    }
   },
   "outputs": [],
   "source": [
    "# ¿Qué cree que ocurra con la siguiente operación?\n",
    "a1 * a1"
   ]
  },
  {
   "cell_type": "code",
   "execution_count": null,
   "metadata": {
    "slideshow": {
     "slide_type": "subslide"
    }
   },
   "outputs": [],
   "source": [
    "a1 += 1 \n",
    "a1"
   ]
  },
  {
   "cell_type": "code",
   "execution_count": null,
   "metadata": {
    "slideshow": {
     "slide_type": "fragment"
    }
   },
   "outputs": [],
   "source": [
    "# Comparación entrada a entrada\n",
    "x = a1 <= 3\n",
    "x"
   ]
  },
  {
   "cell_type": "markdown",
   "metadata": {
    "slideshow": {
     "slide_type": "slide"
    }
   },
   "source": [
    "### np.arange, np.linspace\n",
    "Podemos crear rangos de números $[a, b)$ usando la funcion `arange` (análogo a `range` en Python)"
   ]
  },
  {
   "cell_type": "code",
   "execution_count": null,
   "metadata": {
    "slideshow": {
     "slide_type": "fragment"
    }
   },
   "outputs": [],
   "source": [
    "np.arange(10)"
   ]
  },
  {
   "cell_type": "code",
   "execution_count": null,
   "metadata": {
    "slideshow": {
     "slide_type": "fragment"
    }
   },
   "outputs": [],
   "source": [
    "np.arange(2, 11, 2)"
   ]
  },
  {
   "cell_type": "code",
   "execution_count": null,
   "metadata": {
    "slideshow": {
     "slide_type": "fragment"
    }
   },
   "outputs": [],
   "source": [
    "# A diferencia de range, np.arange nos permite tomar pasos fraccionarios\n",
    "np.arange(1, 11, 0.5)"
   ]
  },
  {
   "cell_type": "markdown",
   "metadata": {
    "slideshow": {
     "slide_type": "subslide"
    }
   },
   "source": [
    "Usamos la función `linspace` cuando deseamos un arreglo de $n$ elementos entre $a$ y $b$ (inclusivo); $a < b$"
   ]
  },
  {
   "cell_type": "code",
   "execution_count": null,
   "metadata": {
    "slideshow": {
     "slide_type": "fragment"
    }
   },
   "outputs": [],
   "source": [
    "a, b = 2, 10\n",
    "x = np.linspace(a, b, 20)\n",
    "print(x)"
   ]
  },
  {
   "cell_type": "code",
   "execution_count": null,
   "metadata": {},
   "outputs": [],
   "source": [
    "help(np.linspace)"
   ]
  },
  {
   "cell_type": "markdown",
   "metadata": {},
   "source": [
    "<h2 style=\"color:crimson\">Ejercicio</h2>\n",
    "\n",
    "Crea un numpy array con 100 elementos $\\{x_i\\}_{i=0}^{99}$ donde\n",
    "$$\n",
    "    x_i = i (i + 100) \\ \\forall \\ i \\in \\{0, \\ldots, 99\\}\n",
    "$$\n",
    "\n",
    "e.g., $x_{99} = 19701$; $x_{10} = 1100$ "
   ]
  },
  {
   "cell_type": "markdown",
   "metadata": {
    "slideshow": {
     "slide_type": "slide"
    }
   },
   "source": [
    "## Reshape"
   ]
  },
  {
   "cell_type": "code",
   "execution_count": null,
   "metadata": {
    "slideshow": {
     "slide_type": "fragment"
    }
   },
   "outputs": [],
   "source": [
    "arr = np.arange(25).reshape(5, 5)\n",
    "arr"
   ]
  },
  {
   "cell_type": "code",
   "execution_count": null,
   "metadata": {},
   "outputs": [],
   "source": [
    "#Reshape también puede utilizarse de la siguiente manera\n",
    "arr = np.arange(25)\n",
    "print(arr)\n",
    "print('-'*20)\n",
    "arr = np.reshape(arr, (5,5))\n",
    "print(arr)"
   ]
  },
  {
   "cell_type": "code",
   "execution_count": null,
   "metadata": {},
   "outputs": [],
   "source": [
    "#Una dimensión puede ser -1 (el valor de esta dimensión se determina automáticamente)\n",
    "arr = np.arange(100).reshape(4, -1)\n",
    "print(arr.shape)\n",
    "print('-' * 20)\n",
    "arr = np.arange(100).reshape(-1, 4)\n",
    "print(arr.shape)"
   ]
  },
  {
   "cell_type": "markdown",
   "metadata": {},
   "source": [
    "# Slicing\n",
    "\n",
    "Existen distintas maneras de acceder a los elementos de cada dimensión de un array"
   ]
  },
  {
   "cell_type": "code",
   "execution_count": null,
   "metadata": {
    "slideshow": {
     "slide_type": "subslide"
    }
   },
   "outputs": [],
   "source": [
    "arr = np.arange(25).reshape(5, 5)\n",
    "print(arr)\n",
    "fila, columna = 1, 2\n",
    "arr[fila, columna]"
   ]
  },
  {
   "cell_type": "code",
   "execution_count": null,
   "metadata": {
    "slideshow": {
     "slide_type": "fragment"
    }
   },
   "outputs": [],
   "source": [
    "filas, columnas = [-2, -1], [0, 3]\n",
    "arr[filas, columnas]"
   ]
  },
  {
   "cell_type": "markdown",
   "metadata": {
    "slideshow": {
     "slide_type": "subslide"
    }
   },
   "source": [
    "Podemos seleccionar múltiples filas usando ```:```.\n",
    "También es posible modificarlas (los arrays son mutables)"
   ]
  },
  {
   "cell_type": "code",
   "execution_count": null,
   "metadata": {},
   "outputs": [],
   "source": [
    "arr[[0, -1],:]"
   ]
  },
  {
   "cell_type": "code",
   "execution_count": null,
   "metadata": {},
   "outputs": [],
   "source": [
    "arr[[0, -1], :] = 0\n",
    "print(arr)"
   ]
  },
  {
   "cell_type": "code",
   "execution_count": null,
   "metadata": {},
   "outputs": [],
   "source": [
    "arr[[0, -1]] # equiv. arr[[0, -1], :]"
   ]
  },
  {
   "cell_type": "code",
   "execution_count": null,
   "metadata": {},
   "outputs": [],
   "source": [
    "np.random.randint(-100, -1, size=(2, 5))\n",
    "#help(np.random.randint)"
   ]
  },
  {
   "cell_type": "code",
   "execution_count": null,
   "metadata": {
    "slideshow": {
     "slide_type": "fragment"
    }
   },
   "outputs": [],
   "source": [
    "# podemos asignar varios valores de la misma\n",
    "# dimension a la que se le hizo la selección\n",
    "x = np.random.randint(-100, -1, size=(3, 5))\n",
    "print(arr)\n",
    "print('-' * 30)\n",
    "print(x)\n",
    "print('-' * 30)\n",
    "arr[[0, -1, 3]] = x\n",
    "print(arr)"
   ]
  },
  {
   "cell_type": "code",
   "execution_count": null,
   "metadata": {
    "slideshow": {
     "slide_type": "fragment"
    }
   },
   "outputs": [],
   "source": [
    "# Al igual que una lista en Python, podemos\n",
    "# revertir el orden de un numpy array con índices\n",
    "arr[1, ::-1]"
   ]
  },
  {
   "cell_type": "code",
   "execution_count": null,
   "metadata": {},
   "outputs": [],
   "source": [
    "# Podemos encontrar los índices dentro de un \n",
    "# numpy array usando np.where\n",
    "a4 = np.array([-1, 0,  1, -2, 1, 0, -4])\n",
    "print(a4[np.where(a4 > 0)])\n",
    "\n",
    "#Equivalente\n",
    "print(a4[a4 > -1])"
   ]
  },
  {
   "cell_type": "code",
   "execution_count": null,
   "metadata": {},
   "outputs": [],
   "source": [
    "a5 = np.array([\n",
    "    [-1, 0,   1, -2,  1,  0, -4],\n",
    "    [1,  1,  -1,  2,  2, -3,  4],\n",
    "])\n",
    "print(a5)\n",
    "cumplen_condicion = np.where(a5 > 0)\n",
    "print(cumplen_condicion)\n",
    "#(array([0, 0, 1, 1, 1, 1, 1]), array([2, 4, 0, 1, 3, 4, 6]))\n",
    "       #INDICE DE LA LISTA      ÍNDICE ADENTRO DE LA LISTA\n",
    "#help(np.where)    "
   ]
  },
  {
   "cell_type": "code",
   "execution_count": null,
   "metadata": {},
   "outputs": [],
   "source": [
    "a5[cumplen_condicion]"
   ]
  },
  {
   "cell_type": "markdown",
   "metadata": {},
   "source": [
    "## Broadcasting\n",
    "**Broadcasting** (difusión) es la manera en que numpy manipula *arrays* con diferentes dimensiones durante operaciones aritméticas.\n",
    "Para $A$, $B$, dos dimensiones son compatibles cuando\n",
    "\n",
    "1. Son iguales;\n",
    "2. Una dimensión es igual a 1."
   ]
  },
  {
   "cell_type": "code",
   "execution_count": null,
   "metadata": {},
   "outputs": [],
   "source": [
    "A = np.arange(25).reshape(5, 5)\n",
    "B = np.arange(5).reshape(1, 5)\n",
    "\n",
    "print(A)\n",
    "print(B)"
   ]
  },
  {
   "cell_type": "code",
   "execution_count": null,
   "metadata": {},
   "outputs": [],
   "source": [
    "A * B"
   ]
  },
  {
   "cell_type": "code",
   "execution_count": null,
   "metadata": {},
   "outputs": [],
   "source": [
    "A + B"
   ]
  },
  {
   "cell_type": "markdown",
   "metadata": {
    "slideshow": {
     "slide_type": "slide"
    }
   },
   "source": [
    "## Métodos comunes \n",
    "\n",
    "### np.zeros"
   ]
  },
  {
   "cell_type": "code",
   "execution_count": null,
   "metadata": {
    "slideshow": {
     "slide_type": "fragment"
    }
   },
   "outputs": [],
   "source": [
    "np.zeros(shape=10)"
   ]
  },
  {
   "cell_type": "code",
   "execution_count": null,
   "metadata": {
    "slideshow": {
     "slide_type": "fragment"
    }
   },
   "outputs": [],
   "source": [
    "np.zeros(shape=(5,5))"
   ]
  },
  {
   "cell_type": "code",
   "execution_count": null,
   "metadata": {
    "slideshow": {
     "slide_type": "fragment"
    }
   },
   "outputs": [],
   "source": [
    "x = np.zeros(shape=(2, 5, 5))\n",
    "print(x)"
   ]
  },
  {
   "cell_type": "code",
   "execution_count": null,
   "metadata": {},
   "outputs": [],
   "source": [
    "x[0,:,:] += 1\n",
    "x[1,:,:] += 2\n",
    "y = x.sum(axis = 0)\n",
    "print(x)\n",
    "print(y)"
   ]
  },
  {
   "cell_type": "markdown",
   "metadata": {
    "slideshow": {
     "slide_type": "slide"
    }
   },
   "source": [
    "### np.ones"
   ]
  },
  {
   "cell_type": "code",
   "execution_count": null,
   "metadata": {
    "slideshow": {
     "slide_type": "fragment"
    }
   },
   "outputs": [],
   "source": [
    "np.ones(shape=10)"
   ]
  },
  {
   "cell_type": "code",
   "execution_count": null,
   "metadata": {
    "slideshow": {
     "slide_type": "fragment"
    }
   },
   "outputs": [],
   "source": [
    "np.ones(shape=(3,5,5))"
   ]
  },
  {
   "cell_type": "markdown",
   "metadata": {
    "slideshow": {
     "slide_type": "slide"
    }
   },
   "source": [
    "### np.identity"
   ]
  },
  {
   "cell_type": "code",
   "execution_count": null,
   "metadata": {
    "slideshow": {
     "slide_type": "fragment"
    }
   },
   "outputs": [],
   "source": [
    "# np.eye(5) regresa el mismo resultado\n",
    "np.identity(5)"
   ]
  },
  {
   "cell_type": "code",
   "execution_count": null,
   "metadata": {},
   "outputs": [],
   "source": [
    "np.eye(5)"
   ]
  },
  {
   "cell_type": "markdown",
   "metadata": {},
   "source": [
    "<h2 style=\"color:crimson\">Ejercicio</h2>\n",
    "Crea un numpy array en $\\mathbb{R}^{10\\times 10}$ tal que\n",
    "\n",
    "$$\n",
    "x_{i,j} = \n",
    "\\begin{cases}\n",
    "    2i & \\forall \\ i = j \\\\\n",
    "    0 & \\forall \\ i \\neq j\n",
    "\\end{cases}\n",
    "$$\n",
    "\n",
    "Considera $i, j \\in \\{1, \\ldots, 10\\}$\n",
    "\n",
    "**Sugerencia**\n",
    "\n",
    "```python\n",
    "help(np.identity)\n",
    "help(np.nonzero)\n",
    "```"
   ]
  },
  {
   "cell_type": "code",
   "execution_count": null,
   "metadata": {
    "slideshow": {
     "slide_type": "fragment"
    }
   },
   "outputs": [],
   "source": [
    "a2 = np.random.randint(-100, 100, 10)\n",
    "a2"
   ]
  },
  {
   "cell_type": "code",
   "execution_count": null,
   "metadata": {},
   "outputs": [],
   "source": [
    "a2.min(axis)"
   ]
  },
  {
   "cell_type": "code",
   "execution_count": null,
   "metadata": {
    "slideshow": {
     "slide_type": "fragment"
    }
   },
   "outputs": [],
   "source": [
    "a2.max()"
   ]
  },
  {
   "cell_type": "code",
   "execution_count": null,
   "metadata": {
    "slideshow": {
     "slide_type": "fragment"
    }
   },
   "outputs": [],
   "source": [
    "a2.argmax()"
   ]
  },
  {
   "cell_type": "code",
   "execution_count": null,
   "metadata": {
    "slideshow": {
     "slide_type": "fragment"
    }
   },
   "outputs": [],
   "source": [
    "a2.sum()"
   ]
  },
  {
   "cell_type": "code",
   "execution_count": null,
   "metadata": {
    "slideshow": {
     "slide_type": "subslide"
    }
   },
   "outputs": [],
   "source": [
    "a2.cumsum()"
   ]
  },
  {
   "cell_type": "code",
   "execution_count": null,
   "metadata": {
    "slideshow": {
     "slide_type": "subslide"
    }
   },
   "outputs": [],
   "source": [
    "#Manejando más de dos ejes (axis)\n",
    "from numpy.random import seed, randint\n",
    "seed(42)\n",
    "\n",
    "#'Cubo'\n",
    "a3 = randint(-100, 100, size=(2, 5, 10))\n",
    "a3"
   ]
  },
  {
   "cell_type": "code",
   "execution_count": null,
   "metadata": {},
   "outputs": [],
   "source": [
    "print(a3.sum(axis=0))\n",
    "print('-'*60)\n",
    "\n",
    "print(a3.sum(axis=1))\n",
    "print('-'*60)\n",
    "\n",
    "print(a3.sum(axis=2))\n",
    "print('-'*60)"
   ]
  },
  {
   "cell_type": "markdown",
   "metadata": {},
   "source": [
    "## Funciones"
   ]
  },
  {
   "cell_type": "code",
   "execution_count": null,
   "metadata": {},
   "outputs": [],
   "source": [
    "a3"
   ]
  },
  {
   "cell_type": "code",
   "execution_count": null,
   "metadata": {},
   "outputs": [],
   "source": [
    "np.unique(a3, return_counts=False)"
   ]
  },
  {
   "cell_type": "code",
   "execution_count": null,
   "metadata": {},
   "outputs": [],
   "source": [
    "help(np.unique)"
   ]
  },
  {
   "cell_type": "code",
   "execution_count": null,
   "metadata": {},
   "outputs": [],
   "source": [
    "unicos, conteo = np.unique(a3, return_counts=True)\n",
    "print(unicos)\n",
    "print('--'*20)\n",
    "print(conteo)"
   ]
  },
  {
   "cell_type": "markdown",
   "metadata": {},
   "source": [
    "# Aplicando una función sobre un eje determinado\n",
    "\n",
    "Numpy nos permite aplicar una función a un eje en particular usando la función `np.apply_along_axis(func1d, axis, arr, *args, **kwargs)`; donde `func1d` es una función. $f:\\mathbb{R}^n \\to \\mathbb{R}^m$, `axis` es el eje a ejecutar: *0* para cada fila de una columna dada y *1* para cada columna de una fila y; `arr` es el numpy array a manipular."
   ]
  },
  {
   "cell_type": "code",
   "execution_count": null,
   "metadata": {},
   "outputs": [],
   "source": [
    "help(np.apply_along_axis)"
   ]
  },
  {
   "cell_type": "code",
   "execution_count": null,
   "metadata": {},
   "outputs": [],
   "source": [
    "from numpy.random import randint, seed\n",
    "seed(1643)\n",
    "a3 = randint(-10, 10, size=(5,4))\n",
    "a3"
   ]
  },
  {
   "cell_type": "code",
   "execution_count": null,
   "metadata": {},
   "outputs": [],
   "source": [
    "def mi_funcion(x):\n",
    "    print(type(x))\n",
    "    print(x)\n"
   ]
  },
  {
   "cell_type": "code",
   "execution_count": null,
   "metadata": {},
   "outputs": [],
   "source": [
    "resultado = np.apply_along_axis(mi_funcion, axis=1, arr=a3)"
   ]
  },
  {
   "cell_type": "code",
   "execution_count": null,
   "metadata": {},
   "outputs": [],
   "source": [
    "def suma_numero(a, *args):\n",
    "    numero = args[0]\n",
    "    print('a el ndarray', a, ' se le sumará', numero)\n",
    "    return a + numero\n",
    "\n",
    "resultado = np.apply_along_axis(suma_numero, 0, a3, 5)\n",
    "print(resultado)"
   ]
  },
  {
   "cell_type": "code",
   "execution_count": null,
   "metadata": {},
   "outputs": [],
   "source": [
    "def mi_funcion2(x):\n",
    "    return np.sin(x) + np.cos(x)\n",
    "\n",
    "resultado = np.apply_along_axis(mi_funcion2, axis=1, arr=a3)\n",
    "resultado"
   ]
  },
  {
   "cell_type": "code",
   "execution_count": null,
   "metadata": {
    "slideshow": {
     "slide_type": "fragment"
    }
   },
   "outputs": [],
   "source": [
    "# Ordenando cada renglón de una fila\n",
    "np.apply_along_axis(sorted, 1, a3)"
   ]
  },
  {
   "cell_type": "markdown",
   "metadata": {},
   "source": [
    "**Nota**\n",
    "\n",
    "Al usar la función `np.apply_along_axis`, numpy aplica implicitamente un for loop en python sobre el eje que decidamos. Usar `np.apply_along_axis` **no** es la manera más eficiente de realizar este tipo de operaciones. Siempre que exista una operación equivalente de python en numpy, es recomendable usar la función dentro de numpy.\n",
    "\n",
    "Por ejemplo, el equivalente de `sorted` en python es `np.sort` en numpy"
   ]
  },
  {
   "cell_type": "code",
   "execution_count": null,
   "metadata": {
    "slideshow": {
     "slide_type": "fragment"
    }
   },
   "outputs": [],
   "source": [
    "a3 = randint(0, 10, size=(10_000, 10_000))"
   ]
  },
  {
   "cell_type": "code",
   "execution_count": null,
   "metadata": {
    "slideshow": {
     "slide_type": "fragment"
    }
   },
   "outputs": [],
   "source": [
    "#%%timeit -n 5\n",
    "np.apply_along_axis(sorted, 0, a3);"
   ]
  },
  {
   "cell_type": "code",
   "execution_count": null,
   "metadata": {
    "slideshow": {
     "slide_type": "fragment"
    }
   },
   "outputs": [],
   "source": [
    "#%%timeit -n 5\n",
    "# Ordenando cada fila de una columna\n",
    "np.sort(a3, 0);"
   ]
  },
  {
   "cell_type": "markdown",
   "metadata": {
    "slideshow": {
     "slide_type": "slide"
    }
   },
   "source": [
    "### Leyendo archivos con numpy"
   ]
  },
  {
   "cell_type": "code",
   "execution_count": null,
   "metadata": {},
   "outputs": [],
   "source": [
    "!head '../files/lec08/AAPL.txt'"
   ]
  },
  {
   "cell_type": "code",
   "execution_count": null,
   "metadata": {
    "slideshow": {
     "slide_type": "fragment"
    }
   },
   "outputs": [],
   "source": [
    "aapl = np.loadtxt(\"../files/lec08/AAPL.txt\")\n",
    "aapl"
   ]
  },
  {
   "cell_type": "code",
   "execution_count": null,
   "metadata": {},
   "outputs": [],
   "source": []
  }
 ],
 "metadata": {
  "celltoolbar": "Slideshow",
  "kernelspec": {
   "display_name": "Python 3",
   "language": "python",
   "name": "python3"
  },
  "language_info": {
   "codemirror_mode": {
    "name": "ipython",
    "version": 3
   },
   "file_extension": ".py",
   "mimetype": "text/x-python",
   "name": "python",
   "nbconvert_exporter": "python",
   "pygments_lexer": "ipython3",
   "version": "3.7.3"
  }
 },
 "nbformat": 4,
 "nbformat_minor": 4
}
