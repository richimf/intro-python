{
 "cells": [
  {
   "cell_type": "markdown",
   "metadata": {},
   "source": [
    "<img src=\"../files/misc/logo.gif\" width=300/>\n",
    "<img src=\"../files/misc/itam.JPG\" width=300/>\n",
    "<h1 style=\"color:#872325\">Programación Orientada a Objetos (OOP)</h1>"
   ]
  },
  {
   "cell_type": "markdown",
   "metadata": {},
   "source": [
    "Python nos permite trabajar con dos clases de _paradigmas_ de computación: programación orientada a objetos (OOP) y programación funcional. En esta sesión veremos la manera de trabajar de trabajar con el paradigma de la programación funcional.\n",
    "\n",
    "En la ciencia de la computación, la **programación funcional** (o *functional programming*), es un paradigma de computación que considera que los elementos sean tratados como funciones matemáticas \n",
    "\n",
    "$$\n",
    "    f: \\Omega_1 \\rightarrow \\Omega_2\n",
    "$$\n",
    "\n",
    "\n",
    "Bajo este paradigma cada elemento definido es único e inmutable."
   ]
  },
  {
   "cell_type": "markdown",
   "metadata": {},
   "source": [
    "### Un primer ejemplo: OOP v.s. FP\n",
    "* Bajo el paradigma OOP operamos objetos mutables\n",
    "* Bajo el paradigma FP operamos respecto a funciones y asignamos inputs."
   ]
  },
  {
   "cell_type": "code",
   "execution_count": null,
   "metadata": {},
   "outputs": [],
   "source": [
    "# Una lista como un objeto (paradigma oop)\n",
    "list_1 = [1, 2, 3]\n",
    "# el método _append_ modifica la lista original y no regresa ningún resultado\n",
    "list_1.append(4)"
   ]
  },
  {
   "cell_type": "code",
   "execution_count": null,
   "metadata": {},
   "outputs": [],
   "source": [
    "# Una lista como un input (paradigma fp)\n",
    "def add_element(elements, new_element):\n",
    "    return elements + [new_element]\n",
    "\n",
    "\n",
    "list_2 = [1, 2, 3]\n",
    "# 'add_element' produce un output y no modifica \n",
    "print(add_element(list_2, 4))\n",
    "print(list_2)"
   ]
  },
  {
   "cell_type": "code",
   "execution_count": null,
   "metadata": {},
   "outputs": [],
   "source": [
    "#RECORDATORIO: PRECAUCIÓN AL TRABAJAR CON LISTAS\n",
    "import numpy as np\n",
    "x = [1,2,3]\n",
    "\n",
    "def agrega_elemento(lista):\n",
    "    lista.append(4)\n",
    "    \n",
    "print(x)\n",
    "agrega_elemento(x)\n",
    "print(x)\n",
    "    "
   ]
  },
  {
   "cell_type": "markdown",
   "metadata": {},
   "source": [
    "## funciones o expresiones `lambda`\n",
    "Una función `lambda` es una función **anónima** que puede ser definida en una simple línea.\n",
    "\n",
    "Este tipo de funciones se utiliza principalmente como argumentos para otras funciones, por ejemplo ```map, filter```.\n",
    "\n",
    "Se recomienda utilizar este tipo de funciones cuando sólo se usarán una vez dentro del programa.\n",
    "\n",
    "Una función ```lambda``` sigue la siguiente sintaxis:\n",
    "```python\n",
    "lambda p1, p2, ..., pn: f(p1, p2, ..., pn)\n",
    "```\n",
    "\n",
    "en donde `p1, p2, ..., pn` son los parámetros y `f(p1, p2, ..., pn)` es una expresión que involucra los parámetros. \n",
    "\n",
    "Observe que una función lambda no utiliza ```return```, además no es posible realizar asignaciones (```=```) de valor dentro de `f(p1, p2, ..., pn)`."
   ]
  },
  {
   "cell_type": "code",
   "execution_count": null,
   "metadata": {},
   "outputs": [],
   "source": [
    "# Las funciones lambda son \"anónimas\" \n",
    "#en el sentido de no tener un nombre asignado\n",
    "times1 = lambda x, y: x * y\n",
    "print(type(times1))"
   ]
  },
  {
   "cell_type": "markdown",
   "metadata": {},
   "source": [
    "Las funciones `lambda` pueden ser tratadas como cualquier otro elemento. No es necesario declarar una variable para poder llamarlas."
   ]
  },
  {
   "cell_type": "code",
   "execution_count": null,
   "metadata": {},
   "outputs": [],
   "source": [
    "#Observe los paréntesis que encierran a\n",
    "#la función lambda\n",
    "(lambda x, y: 2 * x + y)(5, 1)"
   ]
  },
  {
   "cell_type": "code",
   "execution_count": null,
   "metadata": {},
   "outputs": [],
   "source": [
    "#Un posible uso de las funciones lambda\n",
    "#sería implementar la composición (matemática)\n",
    "#de funciones\n",
    "#f°g(x) == f(g(x))\n",
    "def f(g, x):\n",
    "    return 2 * g(x)\n",
    "\n",
    "f(lambda x: x ** 2, 3)"
   ]
  },
  {
   "cell_type": "markdown",
   "metadata": {},
   "source": [
    "# Ejercicio\n",
    "Untilizando únicamente expresiones `lambda`, obtenga una expresión que realiza la composición de dos funciones arbitrarias `f(g(x))`."
   ]
  },
  {
   "cell_type": "code",
   "execution_count": null,
   "metadata": {},
   "outputs": [],
   "source": []
  },
  {
   "cell_type": "markdown",
   "metadata": {},
   "source": [
    "## `map` &  `filter`"
   ]
  },
  {
   "cell_type": "markdown",
   "metadata": {},
   "source": [
    "### `map`\n",
    "La función `map` aplica una función `f` a un iterable `X` de $n$ elementos entrada a entrada.\n",
    "```python\n",
    "map(f, X) = [f(x1), f(x2), ..., f(xn)]\n",
    "```\n",
    "\n",
    "map siempre regresa un iterable, por lo que es necesario, para ver su valor, pasarlo a una lista"
   ]
  },
  {
   "cell_type": "markdown",
   "metadata": {},
   "source": [
    "<h2 style=\"color:teal\">Ejemplo</h2>\n",
    "Crea una lista de 10 elementos con los valores del 1 al 10 al cuadrado"
   ]
  },
  {
   "cell_type": "code",
   "execution_count": null,
   "metadata": {},
   "outputs": [],
   "source": [
    "# versión oop\n",
    "elementos = []\n",
    "for x in range(1, 11):\n",
    "    elementos.append(x ** 2)\n",
    "elementos"
   ]
  },
  {
   "cell_type": "code",
   "execution_count": null,
   "metadata": {},
   "outputs": [],
   "source": [
    "# versión fp\n",
    "elementos = map(lambda x: x ** 2, range(1, 11))\n",
    "print(type(elementos))\n",
    "print('*'*20)\n",
    "print(elementos)\n",
    "print('*'*20)\n",
    "print(list(elementos))\n"
   ]
  },
  {
   "cell_type": "code",
   "execution_count": null,
   "metadata": {
    "scrolled": true
   },
   "outputs": [],
   "source": [
    "#Utilizando más de un iterable en map\n",
    "list(map(lambda x, y: y + x ** 2, range(1, 11), range(10, 21)))"
   ]
  },
  {
   "cell_type": "code",
   "execution_count": null,
   "metadata": {},
   "outputs": [],
   "source": [
    "#¿Que calcula el siguiente código?\n",
    "funcs = [lambda x: x + x, lambda x: x - x,\n",
    "         lambda x: x * x, lambda x: x / x]\n",
    "\n",
    "list(map(lambda f: f(2), funcs))"
   ]
  },
  {
   "cell_type": "markdown",
   "metadata": {},
   "source": [
    "### `filter`\n",
    "La función `filter` filtra los elementos de un iterable`X` considerando el valor de una función booleana `f`. `filter` regresa un iterable de los elementos de `X` que son verdaderos bajo `f`"
   ]
  },
  {
   "cell_type": "code",
   "execution_count": null,
   "metadata": {},
   "outputs": [],
   "source": [
    "#help(filter)\n",
    "#Filtrando elementos impares versión OOP\n",
    "elementos = [1, 5, 2, 0, 4, 3, 8, 11]\n",
    "nuevos_elementos = []\n",
    "for x in elementos:\n",
    "    if x % 2 != 0:\n",
    "        nuevos_elementos.append(x)\n",
    "nuevos_elementos"
   ]
  },
  {
   "cell_type": "code",
   "execution_count": null,
   "metadata": {},
   "outputs": [],
   "source": [
    "#Filtrando elementos impares con filter y una expresión lambda\n",
    "list(filter(lambda x: x % 2 != 0, elementos))"
   ]
  },
  {
   "cell_type": "markdown",
   "metadata": {},
   "source": [
    "<h2 style=\"color:crimson\">Ejercicio</h2>\n",
    "\n",
    "1. Considerando la lista `materias` y usando `map`, convierte cada elemento de materias a un string en minúscula.\n",
    "\n",
    "```python\n",
    "materias = [\"CALCULO\", \"FINANZAS\", \"OPTIMIZACION\",\n",
    "            \"GEOMETRIA\", \"PROGRAMACION\", \"ESTADISTICA\"]\n",
    "```\n",
    "2. Considerando la lista `materias` y usando `filter`, consigue todos los elementos de la lista que contengan más de 10 caracteres.\n",
    "3. Junta el primer y segundo ejercicio: consigue todos los elementos dentro de las lista `materias` que contengan más de 10 caracteres y convierte cada elemento de este subconjunto en minúscula.\n",
    "4. Usando `map` y `filter`, escribe una expresión que obtenga todos los números del 1 al 11 cuyo cuadrado que sea un número impar."
   ]
  },
  {
   "cell_type": "markdown",
   "metadata": {},
   "source": [
    "## List Comprehensions\n",
    "### Una alternativa a `map` & `filter`\n",
    "Una alternativa a usar `map` o `filter` son los *list comprehensions*. La idea detrás de un *list comprehension* es describir un nuevo elemento como si fuera un conjunto:\n",
    "\n",
    "$$\n",
    "    A = \\{f(c) \\ | \\ c \\in C\\}\n",
    "$$\n",
    "\n",
    "\n",
    "<div align=\"center\">\n",
    "    \n",
    "```python\n",
    "A = [f(c) for c in C]\n",
    "\n",
    "```\n",
    "\n",
    "</div>\n",
    "\n",
    "Usar un *list comprehension*:\n",
    "1. Nos ahorra la necesidad de hacer la conversión a lista, e.g. `list(map(..))`.\n",
    "2. Hace de ciertos códigos más legibles en menos líneas"
   ]
  },
  {
   "cell_type": "markdown",
   "metadata": {},
   "source": [
    "### List Comprehension como `map`"
   ]
  },
  {
   "cell_type": "code",
   "execution_count": null,
   "metadata": {},
   "outputs": [],
   "source": [
    "# lista de todos los elementos de 1 al 11 al cuadrado\n",
    "# list(map(lambda x: x ** 2, range(1, 11))) \n",
    "[x ** 2 for x in range(1, 11)]"
   ]
  },
  {
   "cell_type": "markdown",
   "metadata": {},
   "source": [
    "### List Comprehension como `filter`\n"
   ]
  },
  {
   "cell_type": "code",
   "execution_count": null,
   "metadata": {},
   "outputs": [],
   "source": [
    "# lista de todos los elementos de 1 al 11 que sean impares\n",
    "[x for x in range(1, 11) if x % 2 == 1]"
   ]
  },
  {
   "cell_type": "code",
   "execution_count": null,
   "metadata": {},
   "outputs": [],
   "source": [
    "[[x + i for x in range(5)] for i in range(10)]"
   ]
  },
  {
   "cell_type": "markdown",
   "metadata": {},
   "source": [
    "## Set, Dict comprehension\n",
    "Al igual que con una lista, podemos crear diccionarios y conjuntos\n",
    "\n",
    "**dict comprehension**\n",
    "```python\n",
    "{k: f(k) for k in C}\n",
    "```\n",
    "\n",
    "**set comprehension**\n",
    "```python\n",
    "{f(k) for k in C}\n",
    "```"
   ]
  },
  {
   "cell_type": "code",
   "execution_count": null,
   "metadata": {},
   "outputs": [],
   "source": [
    "{x:str(x) for x in range(10)}"
   ]
  },
  {
   "cell_type": "markdown",
   "metadata": {},
   "source": [
    "# Ejercicio\n",
    "\n",
    "Considerando las listas `companies`, `ticks`\n",
    "1. crea un *dict comphrension* cuya llave sea el nombre de la compañía y su valor la longitud de su nombre\n",
    "2. Crea un *set comprehension* que contenga la longitudes de los elementos en `ticks`\n",
    "3. Crea un dict comprehension cuya llave sea al tick de la compañía y su valor el nombre de la compañía"
   ]
  },
  {
   "cell_type": "code",
   "execution_count": null,
   "metadata": {},
   "outputs": [],
   "source": [
    "companies = ['Nokia', 'Caterpillar', 'Citigroup', 'Union Pacific',\n",
    "             'Jp Morgan Chase', 'Morgan Stanley', 'Praxair',\n",
    "             'Lloyds Tsb', 'Wells Fargo', 'Ford Motor', 'Pfizer',\n",
    "             'Companhia Vale Do Rio Doce', 'Gen Electric', 'Barrick Gold',\n",
    "             'Bhp Billiton Sp', 'Philips Electronics']\n",
    "ticks = ['NOK', 'CAT', 'C', 'UNP', 'JPM', 'MS', 'PX', 'LYG', 'WFC', 'F', 'PFE', 'VALE', 'GE', 'ABX', 'BBL', 'PHG']"
   ]
  },
  {
   "cell_type": "markdown",
   "metadata": {},
   "source": [
    "<h2 style=\"color:crimson\">Ejercicio</h2>\n",
    "\n",
    "1. Usando un _list comprehension_, encuentra la suma de todos los múltiplos de 3 o 5 por debajo de 1000\n",
    "---\n",
    "2. define la función **lambda** `conjunto_potencia_unidades` que tome un número `n ` y un número entero `lim`. La función deberá regresar un diccionario con llaves los valores `0` al `n` y valores una lista con los valores únicos de unidades para cada número $\\{k^i\\}_{i=1}^{\\texttt{lim}}$\n",
    "```python\n",
    ">>> conjunto_potencia_unidades(10, 20)\n",
    "{0: [0],\n",
    " 1: [1],\n",
    " 2: [2, 4, 6, 8],\n",
    " 3: [1, 3, 7, 9],\n",
    " 4: [4, 6],\n",
    " 5: [5],\n",
    " 6: [6],\n",
    " 7: [1, 3, 7, 9],\n",
    " 8: [2, 4, 6, 8],\n",
    " 9: [9, 1],\n",
    " 10: [0]}\n",
    "```\n",
    "---\n",
    "3. Usando un list comprehension, define la función `solo_impares` que tome una lista de enteros y regrese la lista con solo los números impares\n",
    "\n",
    "```python\n",
    ">>> solo_impares([1, 5, 2, 8, 9, 10])\n",
    "[1, 5, 9]\n",
    "```\n",
    "----\n",
    "4. Usando un list comphrension, define la función `fizzbuzz` que le pida al usuario un número entero $n$. El programa debe regresar una lista del 1 al $n$ con las siguientes reglas:\n",
    "\n",
    "    * `Fizz` si el número es divisible entre $3$;\n",
    "    * `Buzz` si el número es divisible entre $5$;\n",
    "    * `FizzBuzz` si el número es divisible entre $3$ y $5$;\n",
    "    * El número si no es divisible entre $3$ o $5$.\n",
    "\n",
    "Por ejemplo, si `n=16`, `fizzbuzz(16)` regresa\n",
    "\n",
    "```\n",
    "[1, 2, 'Fizz', 4, 'Buzz', 'Fizz', 7, 8, 'Fizz', 'Buzz', 11, 'Fizz', 13, 14, 'FizzBuzz', 16]\n",
    "```\n",
    "----\n",
    "5. Crea un list comprehension que arroje el siguiente resultado:\n",
    "```\n",
    "[[1, 2, 3, 4, 5, 6, 7, 8, 9, 10],\n",
    " [2, 4, 6, 8, 10, 12, 14, 16, 18, 20],\n",
    " [3, 6, 9, 12, 15, 18, 21, 24, 27, 30],\n",
    " [4, 8, 12, 16, 20, 24, 28, 32, 36, 40],\n",
    " [5, 10, 15, 20, 25, 30, 35, 40, 45, 50],\n",
    " [6, 12, 18, 24, 30, 36, 42, 48, 54, 60],\n",
    " [7, 14, 21, 28, 35, 42, 49, 56, 63, 70],\n",
    " [8, 16, 24, 32, 40, 48, 56, 64, 72, 80],\n",
    " [9, 18, 27, 36, 45, 54, 63, 72, 81, 90],\n",
    " [10, 20, 30, 40, 50, 60, 70, 80, 90, 100]]\n",
    "```\n",
    "----\n",
    "6. Dada la lista `numbers`, crea un diccionario dónde la llave sea la entrada de cada lista y el valor la longitud de cada entrada\n",
    "```python\n",
    "numbers = [\"one\", \"two\", \"three\", \"four\", \"five\", \"six\"]\n",
    "```\n",
    "----\n",
    "7. Dada la lista `nums`, suma a cada entrada un 1 y regresa cada valor como un string\n",
    "```python\n",
    "nums = [\"1\", \"3\", \"5\", \"7\", \"11\", \"13\"]\n",
    "```"
   ]
  },
  {
   "cell_type": "markdown",
   "metadata": {},
   "source": [
    "----\n",
    "## Cuantificadores `all` `any`\n",
    "\n",
    "Al trabajar con arreglos de elementos, en ocasiones es deseable saber si **alguno** o **todos** los elementos cumplen con cierta característica.\n",
    "\n",
    "#### Any\n",
    "Para saber si al menos un elemento deentro de iterable es `True` ocupamos la función  `any`\n",
    "\n",
    "```python\n",
    "any(X) == x[0] or x[1] or ... or x[n-1]\n",
    "```\n",
    "\n",
    "En la práctica, `X` no es necesariamente un arreglo de booleanos, en este caso, podemos considerar una función booleana `f` que, para cada elemento en `X`, nos dice si cumple cierta condición o conjunto de condiciones.\n",
    "\n",
    "<div align=\"center\">\n",
    "    \n",
    "```python\n",
    "any([f(x) for x in X]) == (f(x[0]) or f(x[1]) or ... or f(x[n]))\n",
    "```\n",
    "</div>\n",
    "\n",
    "Lo cual es equivalente al cálculo de predicados como:\n",
    "$$\n",
    "    \\exists x \\in X. f(x) = f(x_0) \\vee f(x_1) \\vee \\ldots \\vee f(x_n)\n",
    "$$\n",
    "\n",
    "#### All\n",
    "Para saber si todos los elementos de un iterable son `True` ocupamos la función  `all`\n",
    "\n",
    "```python\n",
    "all(X) == x[0] and x[1] and ... and x[n-1]\n",
    "```\n",
    "\n",
    "Nuevamente, utilizando una función booleana tenemos:\n",
    "\n",
    "<div align=\"center\">\n",
    "    \n",
    "```python\n",
    "all([f(x) for x in X]) == (f(x[0]) and f(x[1]) and ... and f(x[n]))\n",
    "```\n",
    "</div>\n",
    "\n",
    "Lo cual es equivalente al cálculo de predicados como:\n",
    "$$\n",
    "    \\forall x \\in X. f(x) = f(x_0) \\wedge f(x_1) \\wedge \\ldots \\wedge f(x_n)\n",
    "$$\n"
   ]
  },
  {
   "cell_type": "code",
   "execution_count": null,
   "metadata": {},
   "outputs": [],
   "source": [
    "any([False, True, True])"
   ]
  },
  {
   "cell_type": "code",
   "execution_count": null,
   "metadata": {},
   "outputs": [],
   "source": [
    "all([False, True, True])"
   ]
  },
  {
   "cell_type": "code",
   "execution_count": null,
   "metadata": {},
   "outputs": [],
   "source": [
    "U = [1, 3, 3, 10]\n",
    "all([True if x % 2 == 1 else False for x in U])"
   ]
  },
  {
   "cell_type": "code",
   "execution_count": null,
   "metadata": {},
   "outputs": [],
   "source": [
    "[True if x % 2 == 1 else False for x in U]"
   ]
  },
  {
   "cell_type": "code",
   "execution_count": null,
   "metadata": {},
   "outputs": [],
   "source": [
    "#¿Qué nos dice el siguiente código?\n",
    "any([(lambda x: x%2 == 0)(x) for x in range(431, 567, 7)])"
   ]
  }
 ],
 "metadata": {
  "kernelspec": {
   "display_name": "Python 3",
   "language": "python",
   "name": "python3"
  },
  "language_info": {
   "codemirror_mode": {
    "name": "ipython",
    "version": 3
   },
   "file_extension": ".py",
   "mimetype": "text/x-python",
   "name": "python",
   "nbconvert_exporter": "python",
   "pygments_lexer": "ipython3",
   "version": "3.7.3"
  }
 },
 "nbformat": 4,
 "nbformat_minor": 4
}
