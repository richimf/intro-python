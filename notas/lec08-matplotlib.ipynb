{
 "cells": [
  {
   "cell_type": "markdown",
   "metadata": {
    "slideshow": {
     "slide_type": "slide"
    }
   },
   "source": [
    "<img src=\"../files/misc/logo.gif\" width=300/>\n",
    "<h1 style=\"color:#872325\"> Plotting </h1>"
   ]
  },
  {
   "cell_type": "markdown",
   "metadata": {
    "slideshow": {
     "slide_type": "slide"
    }
   },
   "source": [
    "![matplotlib](https://matplotlib.org/_static/logo2.png)\n",
    "\n",
    "**matplotlib** es una librería para crear visualizaciones estáticas, animadas e interactivas utilizando python\n",
    "\n",
    "https://matplotlib.org/"
   ]
  },
  {
   "cell_type": "code",
   "execution_count": null,
   "metadata": {
    "slideshow": {
     "slide_type": "fragment"
    }
   },
   "outputs": [],
   "source": [
    "import matplotlib.pyplot as plt\n",
    "import numpy as np"
   ]
  },
  {
   "cell_type": "markdown",
   "metadata": {
    "slideshow": {
     "slide_type": "slide"
    }
   },
   "source": [
    "## Lo básico"
   ]
  },
  {
   "cell_type": "code",
   "execution_count": null,
   "metadata": {
    "slideshow": {
     "slide_type": "fragment"
    }
   },
   "outputs": [],
   "source": [
    "#La función principal es la función plot cuyo primer argumento\n",
    "#es un iterable que contiene valores numéricos (e.g. listas o ndarrays)\n",
    "#Observe el resultado del siguiente código\n",
    "#¿Qué se grafica en el eje x?\n",
    "#¿Qué se grafica en el eje y?\n",
    "plt.plot([5,2,3])\n",
    "plt.show()"
   ]
  },
  {
   "cell_type": "code",
   "execution_count": null,
   "metadata": {
    "slideshow": {
     "slide_type": "subslide"
    }
   },
   "outputs": [],
   "source": [
    "#Graficando pares ordenados (x, y)\n",
    "x, y = [1, 4, 7], [4, 1, 1]\n",
    "plt.plot(x, y)\n",
    "plt.show()"
   ]
  },
  {
   "cell_type": "markdown",
   "metadata": {},
   "source": [
    "# Ejercicio \n",
    "\n",
    "¿Cómo graficaría una triángulo de que apunta a la derecha ( **>** )?"
   ]
  },
  {
   "cell_type": "code",
   "execution_count": null,
   "metadata": {},
   "outputs": [],
   "source": []
  },
  {
   "cell_type": "markdown",
   "metadata": {},
   "source": [
    "# Formato básico utilizando el parámetro opcional [fmt]\n",
    "\n",
    "De acuerdo a ``` help(plt.plot) ``` el parámetro *fmt* se utiliza para dar color y/o seleccionar el tipo de marcador o tipo de línea cuando utilizamos la función ```plot```. Este parámetro recibe una cadena que utiliza cierta notación.\n",
    "\n",
    "```\n",
    " \n",
    "    **Markers**\n",
    "    \n",
    "    =============    ===============================\n",
    "    character        description\n",
    "    =============    ===============================\n",
    "    ``'.'``          point marker\n",
    "    ``','``          pixel marker\n",
    "    ``'o'``          circle marker\n",
    "    ``'v'``          triangle_down marker\n",
    "    ``'^'``          triangle_up marker\n",
    "    ``'<'``          triangle_left marker\n",
    "    ``'>'``          triangle_right marker\n",
    "    ``'1'``          tri_down marker\n",
    "    ``'2'``          tri_up marker\n",
    "    ``'3'``          tri_left marker\n",
    "    ``'4'``          tri_right marker\n",
    "    ``'s'``          square marker\n",
    "    ``'p'``          pentagon marker\n",
    "    ``'*'``          star marker\n",
    "    ``'h'``          hexagon1 marker\n",
    "    ``'H'``          hexagon2 marker\n",
    "    ``'+'``          plus marker\n",
    "    ``'x'``          x marker\n",
    "    ``'D'``          diamond marker\n",
    "    ``'d'``          thin_diamond marker\n",
    "    ``'|'``          vline marker\n",
    "    ``'_'``          hline marker\n",
    "    =============    ===============================\n",
    "    \n",
    "    **Line Styles**\n",
    "    \n",
    "    =============    ===============================\n",
    "    character        description\n",
    "    =============    ===============================\n",
    "    ``'-'``          solid line style\n",
    "    ``'--'``         dashed line style\n",
    "    ``'-.'``         dash-dot line style\n",
    "    ``':'``          dotted line style\n",
    "    =============    ===============================\n",
    "    \n",
    "    Example format strings::\n",
    "    \n",
    "        'b'    # blue markers with default shape\n",
    "        'or'   # red circles\n",
    "        '-g'   # green solid line\n",
    "        '--'   # dashed line with default color\n",
    "        '^k:'  # black triangle_up markers connected by a dotted line\n",
    "    \n",
    "    **Colors**\n",
    "    \n",
    "    The supported color abbreviations are the single letter codes\n",
    "    \n",
    "    =============    ===============================\n",
    "    character        color\n",
    "    =============    ===============================\n",
    "    ``'b'``          blue\n",
    "    ``'g'``          green\n",
    "    ``'r'``          red\n",
    "    ``'c'``          cyan\n",
    "    ``'m'``          magenta\n",
    "    ``'y'``          yellow\n",
    "    ``'k'``          black\n",
    "    ``'w'``          white\n",
    "    =============    ===============================\n",
    "    \n",
    "     If the color is the only part of the format string, you can additionally use any  `matplotlib.colors` spec, e.g. full names (``'green'``) or hex strings (``'#008000'``).\n",
    "```"
   ]
  },
  {
   "cell_type": "code",
   "execution_count": null,
   "metadata": {},
   "outputs": [],
   "source": [
    "eje_x = np.linspace(-1, 1, 50)\n",
    "eje_y = eje_x**2\n",
    "plt.plot(eje_x, eje_y, '|b')\n",
    "plt.show()\n",
    "\n",
    "#el orden de los caracteres no importa\n",
    "plt.plot(eje_x, eje_y, 'b|')\n",
    "plt.show()"
   ]
  },
  {
   "cell_type": "code",
   "execution_count": null,
   "metadata": {},
   "outputs": [],
   "source": [
    "plt.plot(eje_x, eje_y, 'Hr-.')\n",
    "plt.show()"
   ]
  },
  {
   "cell_type": "code",
   "execution_count": null,
   "metadata": {},
   "outputs": [],
   "source": [
    "#Es posible utilizar colores con código hexadecimal\n",
    "# https://www.color-hex.com\n",
    "#En este caso no es posible establecer el marker o el tipo de línea\n",
    "plt.plot(eje_x, eje_y, '#ec06cb')\n",
    "plt.show()"
   ]
  },
  {
   "cell_type": "code",
   "execution_count": null,
   "metadata": {
    "slideshow": {
     "slide_type": "subslide"
    }
   },
   "outputs": [],
   "source": [
    "#La función scatter se utiliza para graficar puntos\n",
    "x1, x2 = [1, 1, 2, 3, 4, 5, 4.5], [-0.1, 0.3, 0.2, 0.4, 0.7, 0.9, 0.5]\n",
    "plt.scatter(x1, x2)\n",
    "plt.show()"
   ]
  },
  {
   "cell_type": "markdown",
   "metadata": {},
   "source": [
    "# Ejercicio\n",
    "\n",
    "Utilizando únicamente la función plot, reproduzca el gráfico de scatter"
   ]
  },
  {
   "cell_type": "code",
   "execution_count": null,
   "metadata": {},
   "outputs": [],
   "source": []
  },
  {
   "cell_type": "code",
   "execution_count": null,
   "metadata": {
    "slideshow": {
     "slide_type": "subslide"
    }
   },
   "outputs": [],
   "source": [
    "#Es posible combinar distintos tipos de gráficos\n",
    "x1, x2 = [1, 1, 2, 3, 4, 5, 4.5], [-0.1, 0.3, 0.2, 0.4, 0.7, 0.9, 0.5]\n",
    "plt.scatter(x1, x2)\n",
    "plt.plot(x1, x2)\n",
    "plt.show()"
   ]
  },
  {
   "cell_type": "markdown",
   "metadata": {},
   "source": [
    "# Ejercicio\n",
    "\n",
    "Utilizando únicamente la función ```plot``` reproduzca el gráfico anterior.\n",
    "Pruebe el parámetro ```markersize```"
   ]
  },
  {
   "cell_type": "code",
   "execution_count": null,
   "metadata": {},
   "outputs": [],
   "source": []
  },
  {
   "cell_type": "markdown",
   "metadata": {},
   "source": [
    "# scatter vs plot\n",
    "\n",
    "* Para conjunto de datos pequeños no hay diferencia\n",
    "\n",
    "* Para conjunto de datos grandes, ```plot``` es más eficiente."
   ]
  },
  {
   "cell_type": "markdown",
   "metadata": {
    "slideshow": {
     "slide_type": "slide"
    }
   },
   "source": [
    "## Más sobre formatos"
   ]
  },
  {
   "cell_type": "code",
   "execution_count": null,
   "metadata": {},
   "outputs": [],
   "source": [
    "#Podemos cambiar el estilo de las gráficas\n",
    "#ggplot es una de las librerías más famosas para\n",
    "#hacer gráficos en el lenguaje R (también está disponible para python)\n",
    "plt.style.use('ggplot')"
   ]
  },
  {
   "cell_type": "code",
   "execution_count": null,
   "metadata": {
    "slideshow": {
     "slide_type": "fragment"
    }
   },
   "outputs": [],
   "source": [
    "x, y = [1, 2, 7], [4, 7, 1]\n",
    "plt.plot(x, y, color=\"crimson\")\n",
    "plt.show()"
   ]
  },
  {
   "cell_type": "code",
   "execution_count": null,
   "metadata": {},
   "outputs": [],
   "source": [
    "#estilos disponibles\n",
    "plt.style.available"
   ]
  },
  {
   "cell_type": "code",
   "execution_count": null,
   "metadata": {
    "slideshow": {
     "slide_type": "subslide"
    }
   },
   "outputs": [],
   "source": [
    "x, y = [1, 2, 7], [4, 7, 1]\n",
    "plt.plot(x, y, linewidth=4)\n",
    "plt.show()"
   ]
  },
  {
   "cell_type": "code",
   "execution_count": null,
   "metadata": {
    "slideshow": {
     "slide_type": "subslide"
    }
   },
   "outputs": [],
   "source": [
    "#Es posible determinar el tipo de línea\n",
    "x, y = [1, 2, 7], [4, 7, 1]\n",
    "plt.plot(x, y, linestyle=\"dashed\")\n",
    "plt.show()"
   ]
  },
  {
   "cell_type": "code",
   "execution_count": null,
   "metadata": {},
   "outputs": [],
   "source": [
    "#ls es un alias para el parámetro linestyle\n",
    "plt.plot(x, y, ls=\"dashed\")\n",
    "plt.show()"
   ]
  },
  {
   "cell_type": "code",
   "execution_count": null,
   "metadata": {
    "slideshow": {
     "slide_type": "subslide"
    }
   },
   "outputs": [],
   "source": [
    "#El parámetro alpha controla la transparencia\n",
    "#de los trazos\n",
    "x, y = [1, 2, 7], [4, 7, 1]\n",
    "plt.plot(x, y, alpha=0.8)\n",
    "plt.plot(y, x, color = 'g', alpha=0.4)\n",
    "plt.show()"
   ]
  },
  {
   "cell_type": "code",
   "execution_count": null,
   "metadata": {
    "slideshow": {
     "slide_type": "subslide"
    }
   },
   "outputs": [],
   "source": [
    "#El parámetro drawstyle con\n",
    "x, y = [1, 2, 7], [4, 7, 1]\n",
    "plt.plot(x, y, drawstyle=\"steps-post\", color = 'r', alpha = 0.6)\n",
    "plt.plot(x, y, drawstyle=\"steps-pre\", color = 'c', alpha = 0.4)\n",
    "plt.plot(x,y, 'g.', markersize = 15)\n",
    "plt.show()"
   ]
  },
  {
   "cell_type": "code",
   "execution_count": null,
   "metadata": {
    "slideshow": {
     "slide_type": "subslide"
    }
   },
   "outputs": [],
   "source": [
    "#Con el parámetro label y la función legend\n",
    "#es posible crear una leyenda para los datos mostrados\n",
    "x, y = [1, 2, 7], [4, 7, 1]\n",
    "plt.plot(x, y, color=\"crimson\", linewidth=4, alpha=0.6,\n",
    "         linestyle=\"dashed\" ,label=\"Línea 1\")\n",
    "\n",
    "plt.plot(y, x, color=\"green\", linewidth=2, \n",
    "         linestyle=\":\" ,label=\"Línea 2\")\n",
    "\n",
    "plt.legend(loc=\"lower left\")\n",
    "\n",
    "plt.title('Este es el título del gráfico')\n",
    "\n",
    "plt.ylabel('Título del eje Y')\n",
    "\n",
    "plt.xlabel('Título del eje X')\n",
    "\n",
    "plt.show()"
   ]
  },
  {
   "cell_type": "markdown",
   "metadata": {},
   "source": [
    "# Cuadrícula de gráficos"
   ]
  },
  {
   "cell_type": "code",
   "execution_count": null,
   "metadata": {},
   "outputs": [],
   "source": [
    "plt.style.use('seaborn')\n",
    "#Es posible crear una cuadrícula (grid) de plots\n",
    "x = np.linspace(-5,5, 100)\n",
    "y1 = np.sin(x)\n",
    "y2 = np.cos(x)\n",
    "\n",
    "#El objeto fig nos servirá para crear la malla\n",
    "#figsize=(10->width, 3->Height) en pulgadas\n",
    "fig = plt.figure(figsize=(10, 3), dpi=300)\n",
    "\n",
    "#Se crea una malla de dos renglones y dos columnas\n",
    "\n",
    "#ax1 controlará la figura de la izquierda\n",
    "#el último argumento de add_subplot se refiere\n",
    "#al índice de la figura (EMPIEZA EN 1!!!)\n",
    "ax1 = fig.add_subplot(1, 2, 1)\n",
    "\n",
    "#Crea la gráfica para ax1\n",
    "ax1.plot(x, y1, color=\"crimson\", lw = 3)\n",
    "ax1.plot(y1, x, '-.g', lw =3, alpha = 0.5)\n",
    "ax1.set_xlabel('Eje X de ax1')\n",
    "ax1.set_ylabel('Eje Y de ax1')\n",
    "ax1.set_title('Título de ax1')\n",
    "\n",
    "#ax2 controlará la figura de la izquierda\n",
    "#el último argumento de add_subplot se refiere\n",
    "#al índice de la figura (EMPIEZA EN 1!!!)\n",
    "ax2 = fig.add_subplot(1, 2, 2)\n",
    "\n",
    "#Crea la gráfica para ax1\n",
    "ax2.plot(x, y2, color=\"crimson\", lw = 3)\n",
    "ax2.set_xlabel('Eje X de ax2')\n",
    "ax2.set_ylabel('Eje Y de ax2')\n",
    "ax2.set_title('Título de ax2')\n",
    "\n",
    "#guardamos el gráfico\n",
    "#plt.savefig('mi_grafico.png', format = 'png', bbox_inches = 'tight')\n",
    "plt.savefig('mi_grafico.png', format = 'png')\n",
    "plt.show()"
   ]
  },
  {
   "cell_type": "code",
   "execution_count": null,
   "metadata": {},
   "outputs": [],
   "source": []
  }
 ],
 "metadata": {
  "celltoolbar": "Slideshow",
  "kernelspec": {
   "display_name": "Python 3",
   "language": "python",
   "name": "python3"
  },
  "language_info": {
   "codemirror_mode": {
    "name": "ipython",
    "version": 3
   },
   "file_extension": ".py",
   "mimetype": "text/x-python",
   "name": "python",
   "nbconvert_exporter": "python",
   "pygments_lexer": "ipython3",
   "version": "3.7.3"
  }
 },
 "nbformat": 4,
 "nbformat_minor": 4
}
