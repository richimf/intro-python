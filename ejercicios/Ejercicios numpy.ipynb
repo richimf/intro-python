{
 "cells": [
  {
   "cell_type": "markdown",
   "metadata": {},
   "source": [
    "https://s3.amazonaws.com/assets.datacamp.com/blog_assets/Numpy_Python_Cheat_Sheet.pdf"
   ]
  },
  {
   "cell_type": "code",
   "execution_count": 2,
   "metadata": {},
   "outputs": [],
   "source": [
    "import numpy as np"
   ]
  },
  {
   "cell_type": "markdown",
   "metadata": {},
   "source": [
    "# Ejercicio 1\n",
    "\n",
    "Crea un arreglo de numpy de tamaño 10 x 10 con cada una de sus entradas igual a True"
   ]
  },
  {
   "cell_type": "code",
   "execution_count": null,
   "metadata": {},
   "outputs": [],
   "source": []
  },
  {
   "cell_type": "markdown",
   "metadata": {},
   "source": [
    "# Ejercicio 2\n",
    "\n",
    "Ordene el arreglo \n",
    "```python\n",
    "x = np.array([[4,2,87,3,1], [90,11,100,3,60], [-80,-45,32,-88, 7]])\n",
    "```\n",
    "de la siguiente manera\n",
    "\n",
    "1. Ordenando cada columna de menor a mayor\n",
    "\n",
    "2. Ordenando cada columna de mayor a menor\n",
    "\n",
    "3. Ordenando cada renglón de menor a mayor\n",
    "\n",
    "4. Ordenando cada renglón de mayor a menor\n",
    "\n",
    "**Sugerencia:**\n",
    "\n",
    "```python\n",
    "help(x.sort) #Considere sólamente el argumento axis\n",
    "```"
   ]
  },
  {
   "cell_type": "code",
   "execution_count": null,
   "metadata": {},
   "outputs": [],
   "source": []
  },
  {
   "cell_type": "markdown",
   "metadata": {},
   "source": [
    "# Ejercicio 3\n",
    "\n",
    "A partir de la cadena \n",
    "```python\n",
    "s = \"abcdefghijklmnopqrstuvwxyz01234567890ABCDEFGHIJKLMNOPQRSTUVWXYZ_\"\n",
    "```\n",
    "\n",
    "Cree una función que cree una constraseña aleatoria con determinada longitud.\n",
    "\n",
    "Esta contraseña no puede tener un mismo caracter (sin importar si es mayúscula o minúscula) repetido de forma consecutiva, por ejemplo, la contraseña **hHola** no es válida.\n",
    "\n",
    "**Sugerencia**\n",
    "\n",
    "Puede utilizar la función \n",
    "\n",
    "```python\n",
    "np.random.choice\n",
    "```"
   ]
  },
  {
   "cell_type": "code",
   "execution_count": 4,
   "metadata": {},
   "outputs": [
    {
     "name": "stdout",
     "output_type": "stream",
     "text": [
      "k4YnZ7ydnpq7R9H\n"
     ]
    }
   ],
   "source": [
    "s = \"abcdefghijklmnopqrstuvwxyz01234567890ABCDEFGHIJKLMNOPQRSTUVWXYZ_\""
   ]
  },
  {
   "cell_type": "markdown",
   "metadata": {},
   "source": [
    "# Ejercicio 4\n",
    "\n",
    "Utilizando el arreglo\n",
    "```python\n",
    "arr = np.random.randint(low = 0, high = 100, size = 50 )\n",
    "```\n",
    "filtre el arreglo obteniendo sólo los números pares.\n",
    "\n",
    "**Nota** No puede utilizar *loops*"
   ]
  },
  {
   "cell_type": "code",
   "execution_count": null,
   "metadata": {},
   "outputs": [],
   "source": []
  },
  {
   "cell_type": "markdown",
   "metadata": {},
   "source": [
    "# Ejercicio 5\n",
    "\n",
    "Dado el arreglo bidimensional\n",
    "\n",
    "```python\n",
    "a = np.random.randint(1,10, [5,3])\n",
    "```\n",
    "Programe una función que calcule el cociente $\\dfrac{max}{min}$ de cada renglón.\n",
    "\n",
    "Haga lo mismo pero ahora para las columnas"
   ]
  },
  {
   "cell_type": "code",
   "execution_count": null,
   "metadata": {},
   "outputs": [],
   "source": [
    "a = np.random.randint(1,10, [5,3])\n",
    "print(a)"
   ]
  },
  {
   "cell_type": "code",
   "execution_count": null,
   "metadata": {},
   "outputs": [],
   "source": []
  },
  {
   "cell_type": "markdown",
   "metadata": {},
   "source": [
    "# Ejercicio 6\n",
    "\n",
    "Programe una función que calcule la distancia euclidiana entre dos puntos en $\\mathbb{R}^n$."
   ]
  },
  {
   "cell_type": "code",
   "execution_count": null,
   "metadata": {},
   "outputs": [],
   "source": []
  },
  {
   "cell_type": "markdown",
   "metadata": {},
   "source": [
    "# Ejercicio 7\n",
    "\n",
    "Escriba la función (`suma_pos`) que tome un numpy array y regrese la suma de todos los elementos positivos del array\n",
    "\n",
    "```python\n",
    "a1 = np.array([[ 0,  4,  1],\n",
    "                   [-3, -3,  1],\n",
    "                   [-3,  2, -3]])\n",
    "suma_pos(a1)\n",
    "8\n",
    "```"
   ]
  },
  {
   "cell_type": "code",
   "execution_count": null,
   "metadata": {},
   "outputs": [],
   "source": []
  },
  {
   "cell_type": "markdown",
   "metadata": {},
   "source": [
    "# Ejercicio 8\n",
    "\n",
    "Crea un numpy array en $\\mathbb{R}^{10\\times 10}$ tal que\n",
    "\n",
    "$$\n",
    "x_{i,j} = \n",
    "\\begin{cases}\n",
    "    2i & \\forall \\ i = j \\\\\n",
    "    0 & \\forall \\ i \\neq j\n",
    "\\end{cases}\n",
    "$$\n",
    "\n",
    "Considera $i, j \\in \\{1, \\ldots, 10\\}$\n",
    "\n",
    "**Sugerencia**\n",
    "\n",
    "```python\n",
    "help(np.identity)\n",
    "help(np.nonzero)\n",
    "```"
   ]
  },
  {
   "cell_type": "code",
   "execution_count": null,
   "metadata": {},
   "outputs": [],
   "source": []
  },
  {
   "cell_type": "markdown",
   "metadata": {},
   "source": [
    "# Ejercicio 9\n",
    "\n",
    "Utilizando el archivo ```../files/datos/sp500``` programe una función que calcule los promedios móviles de un arreglo de números. \n",
    "\n",
    "Esta función debe de tener dos argumentos:\n",
    "\n",
    "* arreglo: arreglo de numpy que contiene los datos\n",
    "\n",
    "* ventana: entero que indica el tamaño de la ventana a utilizar\n",
    "\n",
    "Si no se tienen suficientes datos para calcular el promedio para una ventana determinada, el promedio móvil será 0.\n",
    "\n",
    "Finalmente, la función debe de regresar un arreglo de numpy con la misma longitud que ```arreglo```\n",
    "\n",
    "**Ejemplo**\n",
    "\n",
    "Suponga que tiene los siguientes datos ```arreglo = [1,2,3,4,5,6]``` y que ```ventana = 3```, tenemos entonces:\n",
    "\n",
    "* ```promedio[0] = 0``` ya que no hay suficientes datos.\n",
    "* ```promedio[1] = 0``` ya que no hay suficientes datos.\n",
    "* ```promedio[2] = (1 + 2 + 3) / ventana``` \n",
    "* ```promedio[3] = (2 + 3 + 4) / ventana``` \n",
    "* ```promedio[4] = (3 + 4 + 5) / ventana``` \n",
    "* ```promedio[5] = (4 + 5 + 6) / ventana``` \n",
    "\n",
    "Pruebe su función con la columna ```Close``` del csv con una ventana de 10 días."
   ]
  },
  {
   "cell_type": "code",
   "execution_count": null,
   "metadata": {},
   "outputs": [],
   "source": []
  }
 ],
 "metadata": {
  "kernelspec": {
   "display_name": "Python 3",
   "language": "python",
   "name": "python3"
  },
  "language_info": {
   "codemirror_mode": {
    "name": "ipython",
    "version": 3
   },
   "file_extension": ".py",
   "mimetype": "text/x-python",
   "name": "python",
   "nbconvert_exporter": "python",
   "pygments_lexer": "ipython3",
   "version": "3.7.3"
  }
 },
 "nbformat": 4,
 "nbformat_minor": 4
}
