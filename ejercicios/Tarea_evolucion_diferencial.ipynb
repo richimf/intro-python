{
 "cells": [
  {
   "cell_type": "markdown",
   "metadata": {},
   "source": [
    "# Evolución diferencial\n",
    "\n",
    "La evolución diferencial (ED) es un algoritmo diseñado para optimizar funciones cuyo dominio es un subconjunto de $\\mathbb{R}^n$. Cada individuo en la población es una vector de dimensipn $n$ que representa una posible solución al problema. La evolución diferencial está basada en la idea de tomar la diferencia entre dos individuos y agregar una versión escalada de esta diferencia a un tercer individuo con el fin de obtener una nueva posible solución al problema de optimización, como se muestra en la siguiente ilustración:\n",
    "\n",
    "<img src=\"../files/misc/idea_ed.png\" width=400/>\n",
    "\n",
    "Dos individuos distintos $\\mathbf{x_{r2}}, \\mathbf{x_{r3}}$ se seleccionan al azar y su diferencia $\\mathbf{x_{r2} - x_{r3}}$ es calculada. Esta diferencia es escalada por un factor (escalar) $F \\in \\mathbb{R}$ y se agrega a otro individuo $\\mathbf{x_{r1}}$ (distinto a $\\mathbf{x_{r2}}$ y a $\\mathbf{x_{r3}}$), lo que da como resultado el nuevo individuo\n",
    "\n",
    "$$\n",
    "\\mathbf{v_i} = \\mathbf{x_{r1}} + F(\\mathbf{x_{r2} - x_{r3}})\n",
    "$$\n",
    "\n",
    "Una vez obteniendo el vector $\\mathbf{v_i}$, este es combinado con otro individuo $\\mathbf{x_i}$ con $i \\neq r1, r2, r3$, para crear el vector $\\mathbf{u_i}$. La combinación se realiza entrada por entrada, es decir, si $\\mathbf{v_i} = (v_{i1}, v_{i2}, \\ldots, v_{in})$ y $\\mathbf{x_i} = (x_{i1}, x_{i2}, \\ldots, x_{in})$, entonces $\\mathbf{u_i} = (u_{i1}, u_{i2}, \\ldots, u_{in})$ en donde \n",
    "\n",
    "$$\n",
    "u_{ij} = \n",
    "\\begin{cases}\n",
    "v_{ij} \\mbox{ Si } r_{cj} < c \\mbox{ o } j = \\mathcal{J} \\\\\n",
    "x_{ij} \\mbox{ en otro caso }\n",
    "\\end{cases}\n",
    "$$\n",
    "\n",
    "en donde $r_{cj}$ es un número aleatorio obtenido de la distribución uniforme $(0,1)$ y $c$ es la tasa de cruza, $c\\in(0,1)$.\n",
    "\n",
    "El proceso anterior se repite hasta obtener $N$ (tamaño de la población) individuos $\\mathbf{u_i}$ los cuales se compararán con los individuos $\\mathbf{x_i}$ (población anterior). $\\mathcal{J}$ es un número aleatorio elegido dentro del conjunto $\\{1,2, \\ldots, n\\}$.\n",
    "\n",
    "El algoritmo completo de la ED se ilustra a continuación (se intenta resolver el problema de minimizar la función $f$)\n",
    "\n",
    "<img src=\"../files/misc/algoritmo_ed.png\" width=700/>\n",
    "\n",
    "\n",
    "## Función objetivo\n",
    "\n",
    "En este proyecto se busca minimizar la siguiente función (la función de Ackley)\n",
    "\n",
    "$$\n",
    "f(\\mathbf{x}) = 20 + e - 20 exp\\left(-0.2 \\sum_{i=1}^{n} \\dfrac{x_{i}^2}{n}\\right) - exp\\left( \\sum_{i=1}^{n} \\dfrac{cos(2 \\pi x_i)}{n} \\right)\n",
    "$$\n",
    "\n",
    "restringiendo cada componente del vector $\\mathbf{x}$, $x_i \\in [-30, 30]$.\n",
    "\n",
    "El óptimo es $\\mathbf{x^*} = (0,0, \\ldots, 0)$ y $f(\\mathbf{x^*}) = 0$.\n",
    "\n",
    "## Problema\n",
    "\n",
    "Programe el algoritmo de evolución diferencial con el fin de minimizar la función de Ackley. Como condición de paro utilice 6000 generaciones. Realice una gráfica presentando en el *eje X* el número de generación y en el *eje Y* el valor que la función objetivo toma, al evaluarla en el mejor individuo de la generación. Esta gráfica debe de reflejar la convergencia hacia $0$\n",
    "\n",
    "## Hiperparámetros\n",
    "\n",
    "Utilice los siguientes valores para los hiperparámetros\n",
    "\n",
    "* $F = 0.2$\n",
    "* $c = 0.3$\n",
    "* Tamaño de la población $N = 100$.\n",
    "* Dimensión del problema $n = 10$.\n",
    "\n",
    "## Sugerencias\n",
    "\n",
    "* Lea la documentación de ```numpy.random.choice```\n",
    "* Lea la documentación de ```numpy.random.uniform```\n",
    "* Lea la documentación de argmin ```numpy.argmin```"
   ]
  },
  {
   "cell_type": "code",
   "execution_count": 1,
   "metadata": {},
   "outputs": [],
   "source": [
    "import numpy as np\n",
    "import matplotlib.pyplot as plt"
   ]
  },
  {
   "cell_type": "code",
   "execution_count": null,
   "metadata": {},
   "outputs": [],
   "source": []
  }
 ],
 "metadata": {
  "kernelspec": {
   "display_name": "Python 3",
   "language": "python",
   "name": "python3"
  },
  "language_info": {
   "codemirror_mode": {
    "name": "ipython",
    "version": 3
   },
   "file_extension": ".py",
   "mimetype": "text/x-python",
   "name": "python",
   "nbconvert_exporter": "python",
   "pygments_lexer": "ipython3",
   "version": "3.7.3"
  }
 },
 "nbformat": 4,
 "nbformat_minor": 4
}
